{
 "cells": [
  {
   "cell_type": "code",
   "execution_count": 14,
   "metadata": {
    "scrolled": true
   },
   "outputs": [
    {
     "name": "stdout",
     "output_type": "stream",
     "text": [
      "Welcome to this calculator! \n",
      "It can add and subtrack whole numbers from zero to five\n",
      "Please choose your first number (zero to five): five\n",
      "What do you want to do? plus or minus: plus\n",
      "Please choose your second number (zero to five): five\n",
      "I am not able to answer this question. Check your input.\n",
      "five plus five equals zero\n",
      "Thanks for using this calculator, goodbye :)\n"
     ]
    }
   ],
   "source": [
    "print('Welcome to this calculator! \\nIt can add and subtrack whole numbers from zero to five')\n",
    "a,b,c = input('Please choose your first number (zero to five): '), input('What do you want to do? plus or minus: '), input('Please choose your second number (zero to five): ')\n",
    "Numbers = {'zero':0, 'one':1, 'two':2, 'three':3, 'four':4, 'five':5}\n",
    "WrittenResults = {-5:'minus five', -4:'minus four', -3:'minus three', -2:'minus two', -1:'minus one', 0:'zero', 1:'one', 2:'two', 3:'three', 4:'four', 5:'five', 6:'six', 7:'seven', 8:'eight', 9:'nine', 10:'ten'}\n",
    "if b == 'plus': \n",
    "    try: Results = Numbers[a] + Number[c] \n",
    "    except: print('I am not able to answer this question. Check your input.')\n",
    "elif b == 'minus': \n",
    "    try: Results = Numbers[a] - Numbers[c] \n",
    "    except: print('I am not able to answer this question. Check your input.')\n",
    "else: print('I am not able to answer this question. Check your input.')\n",
    "print(a + \" \" + b +\" \" + c +\" \" + \"equals \" + Results[resultado])\n",
    "print(\"Thanks for using this calculator, goodbye :)\")"
   ]
  },
  {
   "cell_type": "code",
   "execution_count": null,
   "metadata": {},
   "outputs": [],
   "source": []
  }
 ],
 "metadata": {
  "kernelspec": {
   "display_name": "Python 3",
   "language": "python",
   "name": "python3"
  },
  "language_info": {
   "codemirror_mode": {
    "name": "ipython",
    "version": 3
   },
   "file_extension": ".py",
   "mimetype": "text/x-python",
   "name": "python",
   "nbconvert_exporter": "python",
   "pygments_lexer": "ipython3",
   "version": "3.7.3"
  }
 },
 "nbformat": 4,
 "nbformat_minor": 2
}
